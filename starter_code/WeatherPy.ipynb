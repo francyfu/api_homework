{
 "cells": [
  {
   "cell_type": "code",
   "execution_count": 1,
   "metadata": {
    "scrolled": true
   },
   "outputs": [],
   "source": [
    "# Dependencies and Setup\n",
    "import matplotlib.pyplot as plt\n",
    "import pandas as pd\n",
    "import numpy as np\n",
    "import requests\n",
    "import time\n",
    "import json\n",
    "\n",
    "# Import API key\n",
    "import api_keys\n",
    "\n",
    "# Incorporated citipy to determine city based on latitude and longitude\n",
    "from citipy import citipy\n",
    "\n",
    "# Output File (CSV)\n",
    "output_data_file = \"output_data/cities.csv\"\n",
    "\n",
    "# Range of latitudes and longitudes\n",
    "lat_range = (-90, 90)\n",
    "lng_range = (-180, 180)"
   ]
  },
  {
   "cell_type": "markdown",
   "metadata": {},
   "source": [
    "## Generate Cities List"
   ]
  },
  {
   "cell_type": "code",
   "execution_count": 2,
   "metadata": {},
   "outputs": [
    {
     "data": {
      "text/plain": [
       "['butaritari',\n",
       " 'provideniya',\n",
       " 'bilibino',\n",
       " 'turukhansk',\n",
       " 'samalaeulu',\n",
       " 'edinburg',\n",
       " 'taolanaro',\n",
       " 'inhambane',\n",
       " 'longyearbyen',\n",
       " 'barrow',\n",
       " 'constitucion',\n",
       " 'vaini',\n",
       " 'rodrigues alves',\n",
       " 'albany',\n",
       " 'adamovka',\n",
       " 'makakilo city',\n",
       " 'asau',\n",
       " 'okhotsk',\n",
       " 'baykit',\n",
       " 'rawson',\n",
       " 'cidreira',\n",
       " 'babanusah',\n",
       " 'rikitea',\n",
       " 'abha',\n",
       " 'norman wells',\n",
       " 'busselton',\n",
       " 'rocha',\n",
       " 'kapaa',\n",
       " 'tiznit',\n",
       " 'puerto ayora',\n",
       " 'mys shmidta',\n",
       " 'visnes',\n",
       " 'kahului',\n",
       " 'roma',\n",
       " 'bluff',\n",
       " 'bad camberg',\n",
       " 'mar del plata',\n",
       " 'matara',\n",
       " 'hobart',\n",
       " 'itarema',\n",
       " 'diego de almagro',\n",
       " 'pevek',\n",
       " 'beyneu',\n",
       " 'kirakira',\n",
       " 'avarua',\n",
       " 'otradnoye',\n",
       " 'isangel',\n",
       " 'gamba',\n",
       " 'dolbeau',\n",
       " 'new norfolk',\n",
       " 'arraial do cabo',\n",
       " 'mount gambier',\n",
       " 'qaanaaq',\n",
       " 'belushya guba',\n",
       " 'taoudenni',\n",
       " 'mataura',\n",
       " 'thompson',\n",
       " 'ahipara',\n",
       " 'punta arenas',\n",
       " 'anadyr',\n",
       " 'lompoc',\n",
       " 'kumbo',\n",
       " 'kafue',\n",
       " 'borovskoy',\n",
       " 'port elizabeth',\n",
       " 'vardo',\n",
       " 'nikolskoye',\n",
       " 'ushuaia',\n",
       " 'udachnyy',\n",
       " 'malakal',\n",
       " 'linhares',\n",
       " 'kodiak',\n",
       " 'atuona',\n",
       " 'tasiilaq',\n",
       " 'tilichiki',\n",
       " 'berlevag',\n",
       " 'upernavik',\n",
       " 'ponta do sol',\n",
       " 'the valley',\n",
       " 'tougan',\n",
       " 'camocim',\n",
       " 'rio grande',\n",
       " 'clyde river',\n",
       " 'pervomayskoye',\n",
       " 'kitimat',\n",
       " 'hamadan',\n",
       " 'baracoa',\n",
       " 'nioro',\n",
       " 'hilo',\n",
       " 'kinshasa',\n",
       " 'port alfred',\n",
       " 'korla',\n",
       " 'bethel',\n",
       " 'tuktoyaktuk',\n",
       " 'touros',\n",
       " 'unidos',\n",
       " 'ocala',\n",
       " 'souillac',\n",
       " 'haines junction',\n",
       " 'nelson bay',\n",
       " 'mackay',\n",
       " 'svetlaya',\n",
       " 'tuatapere',\n",
       " 'goshen',\n",
       " 'bend',\n",
       " 'bin qirdan',\n",
       " 'pangody',\n",
       " 'hami',\n",
       " 'dodge city',\n",
       " 'castro',\n",
       " 'coihaique',\n",
       " 'severo-kurilsk',\n",
       " 'beringovskiy',\n",
       " 'katsuura',\n",
       " 'aranos',\n",
       " 'attawapiskat',\n",
       " 'altay',\n",
       " 'dicabisagan',\n",
       " 'cherskiy',\n",
       " 'college',\n",
       " 'moerai',\n",
       " 'tromso',\n",
       " 'sao filipe',\n",
       " 'yerbogachen',\n",
       " 'manggar',\n",
       " 'grindavik',\n",
       " 'leningradskiy',\n",
       " 'san antonio',\n",
       " 'tumannyy',\n",
       " 'grand gaube',\n",
       " 'cape town',\n",
       " 'tubruq',\n",
       " 'hihifo',\n",
       " 'prescott',\n",
       " 'ambodifototra',\n",
       " 'kars',\n",
       " 'abu kamal',\n",
       " 'zolotinka',\n",
       " 'chernyshkovskiy',\n",
       " 'tessalit',\n",
       " 'bredasdorp',\n",
       " 'ancud',\n",
       " 'aldama',\n",
       " 'hermanus',\n",
       " 'carnarvon',\n",
       " 'kamenka',\n",
       " 'esperance',\n",
       " 'jamestown',\n",
       " 'tucuma',\n",
       " 'xifeng',\n",
       " 'mastic beach',\n",
       " 'benguela',\n",
       " 'dikson',\n",
       " 'bandarbeyla',\n",
       " 'wairoa',\n",
       " 'lebu',\n",
       " 'iquique',\n",
       " 'tura',\n",
       " 'bay roberts',\n",
       " 'quatre cocos',\n",
       " 'trairi',\n",
       " 'illoqqortoormiut',\n",
       " 'boyolangu',\n",
       " 'yellowknife',\n",
       " 'namibe',\n",
       " 'carinhanha',\n",
       " 'cabedelo',\n",
       " 'yar-sale',\n",
       " 'mantua',\n",
       " 'road town',\n",
       " 'coquimbo',\n",
       " 'vaitupu',\n",
       " 'westport',\n",
       " 'ngukurr',\n",
       " 'poum',\n",
       " 'chokurdakh',\n",
       " 'kjopsvik',\n",
       " 'lewistown',\n",
       " 'louisbourg',\n",
       " 'manoel urbano',\n",
       " 'mangai',\n",
       " 'pavelets',\n",
       " 'torbay',\n",
       " 'nizhneyansk',\n",
       " 'shiyan',\n",
       " 'bengkulu',\n",
       " 'santiago de cao',\n",
       " 'nhulunbuy',\n",
       " 'kyra',\n",
       " 'barentsburg',\n",
       " 'adrar',\n",
       " 'port lincoln',\n",
       " 'nishihara',\n",
       " 'bulgan',\n",
       " 'maine-soroa',\n",
       " 'viloco',\n",
       " 'kaitangata',\n",
       " 'sibu',\n",
       " 'arys',\n",
       " 'kavaratti',\n",
       " 'ulladulla',\n",
       " 'flin flon',\n",
       " 'naze',\n",
       " 'balkanabat',\n",
       " 'pangnirtung',\n",
       " 'santiago de chuco',\n",
       " 'rundu',\n",
       " 'hithadhoo',\n",
       " 'comodoro rivadavia',\n",
       " 'dutse',\n",
       " 'saint-francois',\n",
       " 'codrington',\n",
       " 'saldanha',\n",
       " 'palmer',\n",
       " 'fort nelson',\n",
       " 'conceicao do mato dentro',\n",
       " 'sayyan',\n",
       " 'hualmay',\n",
       " 'sentyabrskiy',\n",
       " 'jalu',\n",
       " 'mersing',\n",
       " 'weligama',\n",
       " 'kommunisticheskiy',\n",
       " 'yialos',\n",
       " 'fortuna',\n",
       " 'uran',\n",
       " 'port blair',\n",
       " 'golaghat',\n",
       " 'blonduos',\n",
       " 'taltal',\n",
       " 'georgetown',\n",
       " 'saint george',\n",
       " 'luderitz',\n",
       " 'khonuu',\n",
       " 'ilulissat',\n",
       " 'mecca',\n",
       " 'grand river south east',\n",
       " 'crab hill',\n",
       " 'pacific grove',\n",
       " 'yining',\n",
       " 'kadykchan',\n",
       " 'faanui',\n",
       " 'ekhabi',\n",
       " 'alofi',\n",
       " 'yarada',\n",
       " 'port keats',\n",
       " 'east london',\n",
       " 'president roxas',\n",
       " 'iqaluit',\n",
       " 'tshane',\n",
       " 'bur gabo',\n",
       " 'cortez',\n",
       " 'kutum',\n",
       " 'batagay-alyta',\n",
       " 'palabuhanratu',\n",
       " 'landerneau',\n",
       " 'atar',\n",
       " 'bundaberg',\n",
       " 'hillsboro',\n",
       " 'saint-augustin',\n",
       " 'taitung',\n",
       " 'bhadrachalam',\n",
       " 'luganville',\n",
       " 'solhan',\n",
       " 'karratha',\n",
       " 'lesogorsk',\n",
       " 'tsihombe',\n",
       " 'narsaq',\n",
       " 'san quintin',\n",
       " 'chuy',\n",
       " 'lac du bonnet',\n",
       " 'ostrovnoy',\n",
       " 'axim',\n",
       " 'broome',\n",
       " 'lagoa',\n",
       " 'akle',\n",
       " 'lukh',\n",
       " 'bubaque',\n",
       " 'tisul',\n",
       " 'nicoya',\n",
       " 'katunino',\n",
       " 'calabozo',\n",
       " 'imbituba',\n",
       " 'sitka',\n",
       " 'lorengau',\n",
       " 'byron bay',\n",
       " 'brae',\n",
       " 'dese',\n",
       " 'olafsvik',\n",
       " 'ajaccio',\n",
       " 'patiya',\n",
       " 'cheuskiny',\n",
       " 'maceio',\n",
       " 'lavrentiya',\n",
       " 'fairbanks',\n",
       " 'kokkola',\n",
       " 'los llanos de aridane',\n",
       " 'ovalle',\n",
       " 'juneau',\n",
       " 'west plains',\n",
       " 'husavik',\n",
       " 'okha',\n",
       " 'quang ngai',\n",
       " 'ribeira grande',\n",
       " 'pauini',\n",
       " 'marrakesh',\n",
       " 'visby',\n",
       " 'galle',\n",
       " 'ndele',\n",
       " 'amderma',\n",
       " 'mehamn',\n",
       " 'port-gentil',\n",
       " 'kavieng',\n",
       " 'nanortalik',\n",
       " 'saint-philippe',\n",
       " 'najran',\n",
       " 'marsaxlokk',\n",
       " 'juegang',\n",
       " 'srednekolymsk',\n",
       " 'cabo san lucas',\n",
       " 'hamilton',\n",
       " 'kruisfontein',\n",
       " 'sajanan',\n",
       " 'santa catarina de tepehuanes',\n",
       " 'saint-joseph',\n",
       " 'monrovia',\n",
       " 'grimshaw',\n",
       " 'paracuru',\n",
       " 'kendallville',\n",
       " 'cayenne',\n",
       " 'uk',\n",
       " 'cockburn town',\n",
       " 'sorong',\n",
       " 'bereda',\n",
       " 'hit',\n",
       " 'marang',\n",
       " 'ahuimanu',\n",
       " 'dmytrivka',\n",
       " 'phalaborwa',\n",
       " 'zhaoqing',\n",
       " 'yumen',\n",
       " 'banjar',\n",
       " 'chepareria',\n",
       " 'takoradi',\n",
       " 'kangaba',\n",
       " 'whitehorse',\n",
       " 'port hedland',\n",
       " 'inderborskiy',\n",
       " 'vao',\n",
       " 'swan hill',\n",
       " 'san jeronimo',\n",
       " 'hashtgerd',\n",
       " 'panlaitan',\n",
       " 'kota kinabalu',\n",
       " 'warrington',\n",
       " 'oyon',\n",
       " 'kamiiso',\n",
       " 'high level',\n",
       " 'sorvag',\n",
       " 'yamada',\n",
       " 'mabaruma',\n",
       " 'klaksvik',\n",
       " 'ixtapa',\n",
       " 'vitimskiy',\n",
       " 'margate',\n",
       " 'ketchikan',\n",
       " 'mandurah',\n",
       " 'nha trang',\n",
       " 'sovetskaya gavan',\n",
       " 'carutapera',\n",
       " 'bogatyye saby',\n",
       " 'omboue',\n",
       " 'rosita',\n",
       " 'labutta',\n",
       " 'skjervoy',\n",
       " 'ixcatepec',\n",
       " 'santa cruz',\n",
       " 'at-bashi',\n",
       " 'hasaki',\n",
       " 'raudeberg',\n",
       " 'lae',\n",
       " 'luwuk',\n",
       " 'oistins',\n",
       " 'chapada dos guimaraes',\n",
       " 'sangar',\n",
       " 'tabarqah',\n",
       " 'hurghada',\n",
       " 'flinders',\n",
       " 'pemba',\n",
       " 'buenos aires',\n",
       " 'bathsheba',\n",
       " 'bambous virieux',\n",
       " 'hofn',\n",
       " 'sao felix do xingu',\n",
       " 'bom jardim',\n",
       " 'aquiraz',\n",
       " 'khandbari',\n",
       " 'ahumada',\n",
       " 'rawannawi',\n",
       " 'moron',\n",
       " 'itacarambi',\n",
       " 'trelew',\n",
       " 'semey',\n",
       " 'nacala',\n",
       " 'manta',\n",
       " 'khatanga',\n",
       " 'marzuq',\n",
       " 'pailon',\n",
       " 'lincoln',\n",
       " 'marv dasht',\n",
       " 'hay river',\n",
       " 'kenai',\n",
       " 'tiruvidaimarudur',\n",
       " 'antofagasta',\n",
       " 'victoria',\n",
       " 'barawe',\n",
       " 'milagro',\n",
       " 'skeldon',\n",
       " 'honiara',\n",
       " 'gopalganj',\n",
       " 'kuala terengganu',\n",
       " 'shahpura',\n",
       " 'vanimo',\n",
       " 'tabiauea',\n",
       " 'padilla',\n",
       " 'dubasari',\n",
       " 'one hundred mile house',\n",
       " 'port hardy',\n",
       " 'camacha',\n",
       " 'chagda',\n",
       " 'buala',\n",
       " 'lakes entrance',\n",
       " 'aksarka',\n",
       " 'chicama',\n",
       " 'samarai',\n",
       " 'znamenskoye',\n",
       " 'almeirim',\n",
       " 'vestbygda',\n",
       " 'portmore',\n",
       " 'safaga',\n",
       " 'leshukonskoye',\n",
       " 'muros',\n",
       " 'mayo',\n",
       " 'port macquarie',\n",
       " 'mandasa',\n",
       " 'balkhash',\n",
       " 'bentiu',\n",
       " 'wageningen',\n",
       " 'awbari',\n",
       " 'rupert',\n",
       " 'ereymentau',\n",
       " 'inirida',\n",
       " 'vila franca do campo',\n",
       " 'denpasar',\n",
       " 'katangli',\n",
       " 'batagay',\n",
       " 'sao joao da barra',\n",
       " 'bogovarovo',\n",
       " 'belmonte',\n",
       " 'lagunas',\n",
       " 'mandera',\n",
       " 'liverpool',\n",
       " 'haverfordwest',\n",
       " 'mullaitivu',\n",
       " 'coahuayana',\n",
       " 'mahebourg',\n",
       " 'chulumani',\n",
       " 'karkaralinsk',\n",
       " 'san jose',\n",
       " 'portree',\n",
       " 'labrea',\n",
       " 'maxixe',\n",
       " 'rozhyshche',\n",
       " 'fukuma',\n",
       " 'christchurch',\n",
       " 'calama',\n",
       " 'waipawa',\n",
       " 'mirnyy',\n",
       " 'awjilah',\n",
       " 'sibolga',\n",
       " 'saskylakh',\n",
       " 'messina',\n",
       " 'aloleng',\n",
       " 'marau',\n",
       " 'yabrud',\n",
       " 'zhaodong',\n",
       " 'muravlenko',\n",
       " 'boddam',\n",
       " 'santa marta',\n",
       " 'nichinan',\n",
       " 'meyungs',\n",
       " 'airai',\n",
       " 'sinnamary',\n",
       " 'hunza',\n",
       " 'acapetahua',\n",
       " 'bosaso',\n",
       " 'kjollefjord',\n",
       " 'aykhal',\n",
       " 'kollam',\n",
       " 'mayumba',\n",
       " 'shache',\n",
       " 'khawhai',\n",
       " 'salalah',\n",
       " 'diu',\n",
       " 'sola',\n",
       " 'yuli',\n",
       " 'malwan',\n",
       " 'marmaris',\n",
       " 'urumqi',\n",
       " 'mrirt',\n",
       " 'kimbe',\n",
       " 'teul',\n",
       " 'san clemente',\n",
       " 'osoyoos',\n",
       " 'nerja',\n",
       " 'doha',\n",
       " 'havelock',\n",
       " 'itaberaba',\n",
       " 'svetlyy',\n",
       " 'grandola',\n",
       " 'winslow',\n",
       " 'kenora',\n",
       " 'nyurba',\n",
       " 'vila velha',\n",
       " 'wulanhaote',\n",
       " 'nouadhibou',\n",
       " 'buraydah',\n",
       " 'hervey bay',\n",
       " 'namatanai',\n",
       " 'baruun-urt',\n",
       " 'paita',\n",
       " 'rameswaram',\n",
       " 'nakamura',\n",
       " 'rosetta',\n",
       " 'la ronge',\n",
       " 'gap',\n",
       " 'mawlamyine',\n",
       " 'sokoni',\n",
       " 'wum',\n",
       " 'penzance',\n",
       " 'maridi',\n",
       " 'woodward',\n",
       " 'kirensk',\n",
       " 'bhatkal',\n",
       " 'kromy',\n",
       " 'mocuba',\n",
       " 'umzimvubu',\n",
       " 'pitimbu',\n",
       " 'kamenskoye',\n",
       " 'straumen',\n",
       " 'joshimath',\n",
       " 'kirishi',\n",
       " 'ajdabiya',\n",
       " 'romilly-sur-seine',\n",
       " 'samusu',\n",
       " 'san patricio',\n",
       " 'tokur',\n",
       " 'abalak',\n",
       " 'dalbandin',\n",
       " 'bacuit',\n",
       " 'vinh',\n",
       " 'goundam',\n",
       " 'santo domingo',\n",
       " 'avera',\n",
       " 'minbu',\n",
       " 'taburao',\n",
       " 'felanitx',\n",
       " 'kohlu',\n",
       " 'riohacha',\n",
       " 'oreanda',\n",
       " 'talnakh',\n",
       " 'nola',\n",
       " 'mezen',\n",
       " 'rafai',\n",
       " 'shubarshi',\n",
       " 'wallaceburg',\n",
       " 'xining',\n",
       " 'vershino-darasunskiy',\n",
       " 'worcester',\n",
       " 'puerto narino',\n",
       " 'paamiut',\n",
       " 'mount dora',\n",
       " 'termoli',\n",
       " 'yuncheng',\n",
       " 'kahta',\n",
       " 'portland',\n",
       " 'calvinia',\n",
       " 'kudahuvadhoo',\n",
       " 'komsomolskiy',\n",
       " 'pareora',\n",
       " 'porto santo',\n",
       " 'karaul',\n",
       " 'verkhnyaya toyma',\n",
       " 'aracruz',\n",
       " 'sochi',\n",
       " 'belaya gora',\n",
       " 'lolua',\n",
       " 'camana',\n",
       " 'artvin',\n",
       " 'bud',\n",
       " 'bardiyah',\n",
       " 'tapes',\n",
       " 'sur',\n",
       " 'mae sai',\n",
       " 'ternate',\n",
       " 'the pas',\n",
       " 'ulaangom',\n",
       " 'lasem',\n",
       " 'manali',\n",
       " 'perth',\n",
       " 'ambad',\n",
       " 'sao luis',\n",
       " 'burns lake',\n",
       " 'kaseda',\n",
       " 'praya',\n",
       " 'enshi',\n",
       " 'wilmington',\n",
       " 'caravelas',\n",
       " 'balimo',\n",
       " 'vestmannaeyjar',\n",
       " 'barcelos',\n",
       " 'faya',\n",
       " 'tal',\n",
       " 'riyadh',\n",
       " 'warqla',\n",
       " 'te anau',\n",
       " 'champerico',\n",
       " 'daru',\n",
       " 'batemans bay',\n",
       " 'neath',\n",
       " 'hirara',\n",
       " 'yirol',\n",
       " 'noumea',\n",
       " 'wencheng',\n",
       " 'gorebridge',\n",
       " 'kikwit',\n",
       " 'cazaje',\n",
       " 'togur',\n",
       " 'sydney',\n",
       " 'shimoda',\n",
       " 'pombal',\n",
       " 'sawtell',\n",
       " 'bonfim',\n",
       " 'tadine',\n",
       " 'prachuap khiri khan',\n",
       " 'berdigestyakh',\n",
       " 'tiksi',\n",
       " 'quebrangulo',\n",
       " 'tautira',\n",
       " 'arlit',\n",
       " 'maragogi',\n",
       " 'kijang',\n",
       " 'kabo',\n",
       " 'kidal',\n",
       " 'ola',\n",
       " 'celestun',\n",
       " 'murchison',\n",
       " 'seydi']"
      ]
     },
     "execution_count": 2,
     "metadata": {},
     "output_type": "execute_result"
    }
   ],
   "source": [
    "# List for holding lat_lngs and cities\n",
    "lat_lngs = []\n",
    "cities = []\n",
    "\n",
    "# Create a set of random lat and lng combinations\n",
    "lats = np.random.uniform(low=-90.000, high=90.000, size=1500)\n",
    "lngs = np.random.uniform(low=-180.000, high=180.000, size=1500)\n",
    "lat_lngs = zip(lats, lngs)\n",
    "\n",
    "# Identify nearest city for each lat, lng combination\n",
    "for lat_lng in lat_lngs:\n",
    "    city = citipy.nearest_city(lat_lng[0], lat_lng[1]).city_name\n",
    "    \n",
    "    # If the city is unique, then add it to a our cities list\n",
    "    if city not in cities:\n",
    "        cities.append(city)\n",
    "\n",
    "# Print the city count to confirm sufficient count\n",
    "len(cities)\n",
    "cities"
   ]
  },
  {
   "cell_type": "code",
   "execution_count": 3,
   "metadata": {},
   "outputs": [
    {
     "data": {
      "text/plain": [
       "658"
      ]
     },
     "execution_count": 3,
     "metadata": {},
     "output_type": "execute_result"
    }
   ],
   "source": [
    "len(cities)"
   ]
  },
  {
   "cell_type": "code",
   "execution_count": 4,
   "metadata": {},
   "outputs": [
    {
     "data": {
      "text/plain": [
       "'31cdd903e524ae4f6614a4d7eef27eec'"
      ]
     },
     "execution_count": 4,
     "metadata": {},
     "output_type": "execute_result"
    }
   ],
   "source": [
    "api_key = api_keys.api_key\n",
    "api_key"
   ]
  },
  {
   "cell_type": "markdown",
   "metadata": {},
   "source": [
    "## Perform API Calls"
   ]
  },
  {
   "cell_type": "code",
   "execution_count": 5,
   "metadata": {},
   "outputs": [],
   "source": [
    "#url = \"http://api.openweathermap.org/data/2.5/weather?APPID=\" + api_key + '&q=' + cities[0] + \n",
    "\n",
    "#response = requests.get(url)\n",
    "#alex = response.json()\n",
    "#print(alex)\n"
   ]
  },
  {
   "cell_type": "code",
   "execution_count": 6,
   "metadata": {},
   "outputs": [],
   "source": [
    "# Starting URL for Weather Map API Call\n",
    "url = \"http://api.openweathermap.org/data/2.5/weather?APPID=\" + api_key +'&q='\n",
    "\n",
    "# Get weather data\n",
    "\n",
    "lat = []\n",
    "temp = []\n",
    "humidity = []\n",
    "cloudiness = []\n",
    "wind_speed = []\n",
    "\n",
    "# Loop through the list of cities and perform a request for data on each\n",
    "for city in cities[0:50]:\n",
    "    response = requests.get(url + city).json()\n",
    "    #print(response['coord'])\n",
    "    try:\n",
    "        lat.append(response['coord']['lat'])\n",
    "    except KeyError:\n",
    "         lat.append(np.NaN)\n",
    "# \"Catching\" the error lets the rest of our code execute\n",
    "    #print(\"...But the program doesn't die early!\")\n",
    "    #lat.append(response['coord']['lat'])\n",
    "    try:\n",
    "        temp.append(response['main']['temp'])\n",
    "    except KeyError:\n",
    "         temp.append(np.NaN)\n",
    "    #temp.append(response['main']['temp'])\n",
    "    try:\n",
    "        humidity.append(response['main']['humidity'])\n",
    "    except KeyError:\n",
    "         humidity.append(np.NaN)\n",
    "    #humidity.append(response['main']['humidity'])\n",
    "    try:\n",
    "        cloudiness.append(response['clouds']['all'])\n",
    "    except KeyError:\n",
    "         cloudiness.append(np.NaN)\n",
    "    #cloudiness.append(response['clouds']['all'])\n",
    "    try:\n",
    "        wind_speed.append(response['wind']['speed'])\n",
    "    except KeyError:\n",
    "         wind_speed.append(np.NaN)\n",
    "   \n",
    "    \n",
    "    #wind_speed.append(response['wind']['speed'])\n",
    "\n",
    "# Try to access key that doesn't exist\n",
    "\n",
    "    # Get the temperature from the response"
   ]
  },
  {
   "cell_type": "code",
   "execution_count": 7,
   "metadata": {},
   "outputs": [
    {
     "data": {
      "text/plain": [
       "50"
      ]
     },
     "execution_count": 7,
     "metadata": {},
     "output_type": "execute_result"
    }
   ],
   "source": [
    "len(lat)"
   ]
  },
  {
   "cell_type": "code",
   "execution_count": 8,
   "metadata": {},
   "outputs": [
    {
     "data": {
      "text/plain": [
       "50"
      ]
     },
     "execution_count": 8,
     "metadata": {},
     "output_type": "execute_result"
    }
   ],
   "source": [
    "len(temp)"
   ]
  },
  {
   "cell_type": "code",
   "execution_count": 9,
   "metadata": {},
   "outputs": [
    {
     "data": {
      "text/plain": [
       "50"
      ]
     },
     "execution_count": 9,
     "metadata": {},
     "output_type": "execute_result"
    }
   ],
   "source": [
    "len(humidity)"
   ]
  },
  {
   "cell_type": "code",
   "execution_count": 10,
   "metadata": {},
   "outputs": [
    {
     "data": {
      "text/plain": [
       "50"
      ]
     },
     "execution_count": 10,
     "metadata": {},
     "output_type": "execute_result"
    }
   ],
   "source": [
    "len(cloudiness)"
   ]
  },
  {
   "cell_type": "code",
   "execution_count": 11,
   "metadata": {},
   "outputs": [
    {
     "data": {
      "text/plain": [
       "50"
      ]
     },
     "execution_count": 11,
     "metadata": {},
     "output_type": "execute_result"
    }
   ],
   "source": [
    "len(wind_speed)"
   ]
  },
  {
   "cell_type": "code",
   "execution_count": null,
   "metadata": {},
   "outputs": [],
   "source": []
  },
  {
   "cell_type": "code",
   "execution_count": null,
   "metadata": {},
   "outputs": [],
   "source": []
  },
  {
   "cell_type": "code",
   "execution_count": 13,
   "metadata": {},
   "outputs": [],
   "source": [
    "for city in cities[50:100]:\n",
    "    response = requests.get(url + city).json()\n",
    "    #print(response['coord'])\n",
    "    try:\n",
    "        lat.append(response['coord']['lat'])\n",
    "    except KeyError:\n",
    "         lat.append(np.NaN)\n",
    "# \"Catching\" the error lets the rest of our code execute\n",
    "    #print(\"...But the program doesn't die early!\")\n",
    "    #lat.append(response['coord']['lat'])\n",
    "    try:\n",
    "        temp.append(response['main']['temp'])\n",
    "    except KeyError:\n",
    "         temp.append(np.NaN)\n",
    "    #temp.append(response['main']['temp'])\n",
    "    #humidity.append(response['main']['humidity'])\n",
    "    try:\n",
    "        humidity.append(response['main']['humidity'])\n",
    "    except KeyError:\n",
    "         humidity.append(np.NaN)\n",
    "    try:\n",
    "        cloudiness.append(response['clouds']['all'])\n",
    "    except KeyError:\n",
    "         cloudiness.append(np.NaN)\n",
    "    #cloudiness.append(response['clouds']['all'])\n",
    "    try:\n",
    "        wind_speed.append(response['wind']['speed'])\n",
    "    except KeyError:\n",
    "         wind_speed.append(np.NaN)"
   ]
  },
  {
   "cell_type": "code",
   "execution_count": 14,
   "metadata": {},
   "outputs": [
    {
     "data": {
      "text/plain": [
       "102"
      ]
     },
     "execution_count": 14,
     "metadata": {},
     "output_type": "execute_result"
    }
   ],
   "source": [
    "len(humidity)"
   ]
  },
  {
   "cell_type": "code",
   "execution_count": 15,
   "metadata": {},
   "outputs": [
    {
     "data": {
      "text/plain": [
       "102"
      ]
     },
     "execution_count": 15,
     "metadata": {},
     "output_type": "execute_result"
    }
   ],
   "source": [
    "len(temp)"
   ]
  },
  {
   "cell_type": "code",
   "execution_count": 16,
   "metadata": {},
   "outputs": [
    {
     "data": {
      "text/plain": [
       "102"
      ]
     },
     "execution_count": 16,
     "metadata": {},
     "output_type": "execute_result"
    }
   ],
   "source": [
    "len(wind_speed)"
   ]
  },
  {
   "cell_type": "code",
   "execution_count": 17,
   "metadata": {},
   "outputs": [
    {
     "data": {
      "text/plain": [
       "102"
      ]
     },
     "execution_count": 17,
     "metadata": {},
     "output_type": "execute_result"
    }
   ],
   "source": [
    "len(cloudiness)"
   ]
  },
  {
   "cell_type": "code",
   "execution_count": 18,
   "metadata": {},
   "outputs": [
    {
     "data": {
      "text/plain": [
       "102"
      ]
     },
     "execution_count": 18,
     "metadata": {},
     "output_type": "execute_result"
    }
   ],
   "source": [
    "len(lat)"
   ]
  },
  {
   "cell_type": "code",
   "execution_count": null,
   "metadata": {},
   "outputs": [],
   "source": []
  },
  {
   "cell_type": "code",
   "execution_count": 19,
   "metadata": {},
   "outputs": [],
   "source": [
    "for city in cities[100:150]:\n",
    "    response = requests.get(url + city).json()\n",
    "    #print(response['coord'])\n",
    "    try:\n",
    "        lat.append(response['coord']['lat'])\n",
    "    except KeyError:\n",
    "         lat.append(np.NaN)\n",
    "# \"Catching\" the error lets the rest of our code execute\n",
    "    #print(\"...But the program doesn't die early!\")\n",
    "    #lat.append(response['coord']['lat'])\n",
    "    try:\n",
    "        temp.append(response['main']['temp'])\n",
    "    except KeyError:\n",
    "         temp.append(np.NaN)\n",
    "    #temp.append(response['main']['temp'])\n",
    "    #humidity.append(response['main']['humidity'])\n",
    "    try:\n",
    "        humidity.append(response['main']['humidity'])\n",
    "    except KeyError:\n",
    "         humidity.append(np.NaN)\n",
    "    try:\n",
    "        cloudiness.append(response['clouds']['all'])\n",
    "    except KeyError:\n",
    "         cloudiness.append(np.NaN)\n",
    "    #cloudiness.append(response['clouds']['all'])\n",
    "    try:\n",
    "        wind_speed.append(response['wind']['speed'])\n",
    "    except KeyError:\n",
    "         wind_speed.append(np.NaN)"
   ]
  },
  {
   "cell_type": "code",
   "execution_count": 20,
   "metadata": {},
   "outputs": [
    {
     "data": {
      "text/plain": [
       "152"
      ]
     },
     "execution_count": 20,
     "metadata": {},
     "output_type": "execute_result"
    }
   ],
   "source": [
    "len(lat)"
   ]
  },
  {
   "cell_type": "code",
   "execution_count": 21,
   "metadata": {},
   "outputs": [
    {
     "data": {
      "text/plain": [
       "152"
      ]
     },
     "execution_count": 21,
     "metadata": {},
     "output_type": "execute_result"
    }
   ],
   "source": [
    "len(wind_speed)"
   ]
  },
  {
   "cell_type": "code",
   "execution_count": 22,
   "metadata": {},
   "outputs": [
    {
     "data": {
      "text/plain": [
       "152"
      ]
     },
     "execution_count": 22,
     "metadata": {},
     "output_type": "execute_result"
    }
   ],
   "source": [
    "len(temp)"
   ]
  },
  {
   "cell_type": "code",
   "execution_count": 23,
   "metadata": {},
   "outputs": [
    {
     "data": {
      "text/plain": [
       "152"
      ]
     },
     "execution_count": 23,
     "metadata": {},
     "output_type": "execute_result"
    }
   ],
   "source": [
    "len(humidity)"
   ]
  },
  {
   "cell_type": "code",
   "execution_count": 24,
   "metadata": {},
   "outputs": [
    {
     "data": {
      "text/plain": [
       "152"
      ]
     },
     "execution_count": 24,
     "metadata": {},
     "output_type": "execute_result"
    }
   ],
   "source": [
    "len(cloudiness)"
   ]
  },
  {
   "cell_type": "code",
   "execution_count": 25,
   "metadata": {},
   "outputs": [
    {
     "data": {
      "text/plain": [
       "152"
      ]
     },
     "execution_count": 25,
     "metadata": {},
     "output_type": "execute_result"
    }
   ],
   "source": [
    "len(wind_speed)"
   ]
  },
  {
   "cell_type": "code",
   "execution_count": 27,
   "metadata": {},
   "outputs": [],
   "source": [
    "for city in cities[150:200]:\n",
    "    response = requests.get(url + city).json()\n",
    "    #print(response['coord'])\n",
    "    try:\n",
    "        lat.append(response['coord']['lat'])\n",
    "    except KeyError:\n",
    "         lat.append(np.NaN)\n",
    "# \"Catching\" the error lets the rest of our code execute\n",
    "    #print(\"...But the program doesn't die early!\")\n",
    "    #lat.append(response['coord']['lat'])\n",
    "    try:\n",
    "        temp.append(response['main']['temp'])\n",
    "    except KeyError:\n",
    "         temp.append(np.NaN)\n",
    "    #temp.append(response['main']['temp'])\n",
    "    #humidity.append(response['main']['humidity'])\n",
    "    try:\n",
    "        humidity.append(response['main']['humidity'])\n",
    "    except KeyError:\n",
    "         humidity.append(np.NaN)\n",
    "    try:\n",
    "        cloudiness.append(response['clouds']['all'])\n",
    "    except KeyError:\n",
    "         cloudiness.append(np.NaN)\n",
    "    #cloudiness.append(response['clouds']['all'])\n",
    "    try:\n",
    "        wind_speed.append(response['wind']['speed'])\n",
    "    except KeyError:\n",
    "         wind_speed.append(np.NaN)"
   ]
  },
  {
   "cell_type": "code",
   "execution_count": 28,
   "metadata": {},
   "outputs": [
    {
     "data": {
      "text/plain": [
       "235"
      ]
     },
     "execution_count": 28,
     "metadata": {},
     "output_type": "execute_result"
    }
   ],
   "source": [
    "len(temp)"
   ]
  },
  {
   "cell_type": "code",
   "execution_count": 29,
   "metadata": {},
   "outputs": [
    {
     "data": {
      "text/plain": [
       "235"
      ]
     },
     "execution_count": 29,
     "metadata": {},
     "output_type": "execute_result"
    }
   ],
   "source": [
    "len(lat)"
   ]
  },
  {
   "cell_type": "code",
   "execution_count": 30,
   "metadata": {},
   "outputs": [
    {
     "data": {
      "text/plain": [
       "235"
      ]
     },
     "execution_count": 30,
     "metadata": {},
     "output_type": "execute_result"
    }
   ],
   "source": [
    "len(wind_speed)"
   ]
  },
  {
   "cell_type": "code",
   "execution_count": 31,
   "metadata": {},
   "outputs": [
    {
     "data": {
      "text/plain": [
       "235"
      ]
     },
     "execution_count": 31,
     "metadata": {},
     "output_type": "execute_result"
    }
   ],
   "source": [
    "len(cloudiness)"
   ]
  },
  {
   "cell_type": "code",
   "execution_count": 32,
   "metadata": {},
   "outputs": [
    {
     "data": {
      "text/plain": [
       "235"
      ]
     },
     "execution_count": 32,
     "metadata": {},
     "output_type": "execute_result"
    }
   ],
   "source": [
    "len(humidity)"
   ]
  },
  {
   "cell_type": "code",
   "execution_count": null,
   "metadata": {},
   "outputs": [],
   "source": []
  },
  {
   "cell_type": "code",
   "execution_count": 33,
   "metadata": {},
   "outputs": [],
   "source": [
    "for city in cities[200:250]:\n",
    "    response = requests.get(url + city).json()\n",
    "    #print(response['coord'])\n",
    "    try:\n",
    "        lat.append(response['coord']['lat'])\n",
    "    except KeyError:\n",
    "         lat.append(np.NaN)\n",
    "# \"Catching\" the error lets the rest of our code execute\n",
    "    #print(\"...But the program doesn't die early!\")\n",
    "    #lat.append(response['coord']['lat'])\n",
    "    try:\n",
    "        temp.append(response['main']['temp'])\n",
    "    except KeyError:\n",
    "         temp.append(np.NaN)\n",
    "    #temp.append(response['main']['temp'])\n",
    "    #humidity.append(response['main']['humidity'])\n",
    "    try:\n",
    "        humidity.append(response['main']['humidity'])\n",
    "    except KeyError:\n",
    "         humidity.append(np.NaN)\n",
    "    try:\n",
    "        cloudiness.append(response['clouds']['all'])\n",
    "    except KeyError:\n",
    "         cloudiness.append(np.NaN)\n",
    "    #cloudiness.append(response['clouds']['all'])\n",
    "    try:\n",
    "        wind_speed.append(response['wind']['speed'])\n",
    "    except KeyError:\n",
    "         wind_speed.append(np.NaN)"
   ]
  },
  {
   "cell_type": "code",
   "execution_count": 34,
   "metadata": {},
   "outputs": [
    {
     "data": {
      "text/plain": [
       "285"
      ]
     },
     "execution_count": 34,
     "metadata": {},
     "output_type": "execute_result"
    }
   ],
   "source": [
    "len(humidity)"
   ]
  },
  {
   "cell_type": "code",
   "execution_count": 35,
   "metadata": {},
   "outputs": [
    {
     "data": {
      "text/plain": [
       "285"
      ]
     },
     "execution_count": 35,
     "metadata": {},
     "output_type": "execute_result"
    }
   ],
   "source": [
    "len(temp)"
   ]
  },
  {
   "cell_type": "code",
   "execution_count": null,
   "metadata": {},
   "outputs": [],
   "source": []
  },
  {
   "cell_type": "code",
   "execution_count": 37,
   "metadata": {},
   "outputs": [],
   "source": [
    "for city in cities[250:300]:\n",
    "    response = requests.get(url + city).json()\n",
    "    #print(response['coord'])\n",
    "    try:\n",
    "        lat.append(response['coord']['lat'])\n",
    "    except KeyError:\n",
    "         lat.append(np.NaN)\n",
    "# \"Catching\" the error lets the rest of our code execute\n",
    "    #print(\"...But the program doesn't die early!\")\n",
    "    #lat.append(response['coord']['lat'])\n",
    "    try:\n",
    "        temp.append(response['main']['temp'])\n",
    "    except KeyError:\n",
    "         temp.append(np.NaN)\n",
    "    try:\n",
    "        humidity.append(response['main']['humidity'])\n",
    "    except KeyError:\n",
    "         humidity.append(np.NaN)\n",
    "    #temp.append(response['main']['temp'])\n",
    "    #humidity.append(response['main']['humidity'])\n",
    "    try:\n",
    "        cloudiness.append(response['clouds']['all'])\n",
    "    except KeyError:\n",
    "         cloudiness.append(np.NaN)\n",
    "    #cloudiness.append(response['clouds']['all'])\n",
    "    try:\n",
    "        wind_speed.append(response['wind']['speed'])\n",
    "    except KeyError:\n",
    "         wind_speed.append(np.NaN)"
   ]
  },
  {
   "cell_type": "code",
   "execution_count": 38,
   "metadata": {},
   "outputs": [
    {
     "data": {
      "text/plain": [
       "346"
      ]
     },
     "execution_count": 38,
     "metadata": {},
     "output_type": "execute_result"
    }
   ],
   "source": [
    "len(temp)"
   ]
  },
  {
   "cell_type": "code",
   "execution_count": 39,
   "metadata": {},
   "outputs": [
    {
     "data": {
      "text/plain": [
       "346"
      ]
     },
     "execution_count": 39,
     "metadata": {},
     "output_type": "execute_result"
    }
   ],
   "source": [
    "len(humidity)"
   ]
  },
  {
   "cell_type": "code",
   "execution_count": 41,
   "metadata": {},
   "outputs": [],
   "source": [
    "for city in cities[300:350]:\n",
    "    response = requests.get(url + city).json()\n",
    "    #print(response['coord'])\n",
    "    try:\n",
    "        lat.append(response['coord']['lat'])\n",
    "    except KeyError:\n",
    "         lat.append(np.NaN)\n",
    "# \"Catching\" the error lets the rest of our code execute\n",
    "    #print(\"...But the program doesn't die early!\")\n",
    "    #lat.append(response['coord']['lat'])\n",
    "    try:\n",
    "        temp.append(response['main']['temp'])\n",
    "    except KeyError:\n",
    "         temp.append(np.NaN)\n",
    "    try:\n",
    "        humidity.append(response['main']['humidity'])\n",
    "    except KeyError:\n",
    "         humidity.append(np.NaN)\n",
    "    #temp.append(response['main']['temp'])\n",
    "    #humidity.append(response['main']['humidity'])\n",
    "    try:\n",
    "        cloudiness.append(response['clouds']['all'])\n",
    "    except KeyError:\n",
    "         cloudiness.append(np.NaN)\n",
    "    #cloudiness.append(response['clouds']['all'])\n",
    "    try:\n",
    "        wind_speed.append(response['wind']['speed'])\n",
    "    except KeyError:\n",
    "         wind_speed.append(np.NaN)"
   ]
  },
  {
   "cell_type": "code",
   "execution_count": 42,
   "metadata": {},
   "outputs": [
    {
     "data": {
      "text/plain": [
       "436"
      ]
     },
     "execution_count": 42,
     "metadata": {},
     "output_type": "execute_result"
    }
   ],
   "source": [
    "len(humidity)"
   ]
  },
  {
   "cell_type": "code",
   "execution_count": 43,
   "metadata": {},
   "outputs": [
    {
     "data": {
      "text/plain": [
       "436"
      ]
     },
     "execution_count": 43,
     "metadata": {},
     "output_type": "execute_result"
    }
   ],
   "source": [
    "len(temp)"
   ]
  },
  {
   "cell_type": "code",
   "execution_count": 44,
   "metadata": {},
   "outputs": [],
   "source": [
    "for city in cities[350:400]:\n",
    "    response = requests.get(url + city).json()\n",
    "    #print(response['coord'])\n",
    "    try:\n",
    "        lat.append(response['coord']['lat'])\n",
    "    except KeyError:\n",
    "         lat.append(np.NaN)\n",
    "# \"Catching\" the error lets the rest of our code execute\n",
    "    #print(\"...But the program doesn't die early!\")\n",
    "    #lat.append(response['coord']['lat'])\n",
    "    try:\n",
    "        temp.append(response['main']['temp'])\n",
    "    except KeyError:\n",
    "         temp.append(np.NaN)\n",
    "    try:\n",
    "        humidity.append(response['main']['humidity'])\n",
    "    except KeyError:\n",
    "         humidity.append(np.NaN)\n",
    "    #temp.append(response['main']['temp'])\n",
    "    #humidity.append(response['main']['humidity'])\n",
    "    try:\n",
    "        cloudiness.append(response['clouds']['all'])\n",
    "    except KeyError:\n",
    "         cloudiness.append(np.NaN)\n",
    "    #cloudiness.append(response['clouds']['all'])\n",
    "    try:\n",
    "        wind_speed.append(response['wind']['speed'])\n",
    "    except KeyError:\n",
    "         wind_speed.append(np.NaN)"
   ]
  },
  {
   "cell_type": "code",
   "execution_count": 45,
   "metadata": {},
   "outputs": [
    {
     "data": {
      "text/plain": [
       "486"
      ]
     },
     "execution_count": 45,
     "metadata": {},
     "output_type": "execute_result"
    }
   ],
   "source": [
    "len(humidity)"
   ]
  },
  {
   "cell_type": "code",
   "execution_count": 46,
   "metadata": {},
   "outputs": [
    {
     "data": {
      "text/plain": [
       "486"
      ]
     },
     "execution_count": 46,
     "metadata": {},
     "output_type": "execute_result"
    }
   ],
   "source": [
    "len(temp)"
   ]
  },
  {
   "cell_type": "code",
   "execution_count": 47,
   "metadata": {},
   "outputs": [],
   "source": [
    "for city in cities[400:450]:\n",
    "    response = requests.get(url + city).json()\n",
    "    #print(response['coord'])\n",
    "    try:\n",
    "        lat.append(response['coord']['lat'])\n",
    "    except KeyError:\n",
    "         lat.append(np.NaN)\n",
    "    try:\n",
    "        humidity.append(response['main']['humidity'])\n",
    "    except KeyError:\n",
    "         humidity.append(np.NaN)\n",
    "# \"Catching\" the error lets the rest of our code execute\n",
    "    #print(\"...But the program doesn't die early!\")\n",
    "    #lat.append(response['coord']['lat'])\n",
    "    try:\n",
    "        temp.append(response['main']['temp'])\n",
    "    except KeyError:\n",
    "         temp.append(np.NaN)\n",
    "    #temp.append(response['main']['temp'])\n",
    "    #humidity.append(response['main']['humidity'])\n",
    "    try:\n",
    "        cloudiness.append(response['clouds']['all'])\n",
    "    except KeyError:\n",
    "         cloudiness.append(np.NaN)\n",
    "    #cloudiness.append(response['clouds']['all'])\n",
    "    try:\n",
    "        wind_speed.append(response['wind']['speed'])\n",
    "    except KeyError:\n",
    "         wind_speed.append(np.NaN)"
   ]
  },
  {
   "cell_type": "code",
   "execution_count": 48,
   "metadata": {},
   "outputs": [
    {
     "data": {
      "text/plain": [
       "536"
      ]
     },
     "execution_count": 48,
     "metadata": {},
     "output_type": "execute_result"
    }
   ],
   "source": [
    "len(wind_speed)"
   ]
  },
  {
   "cell_type": "code",
   "execution_count": 49,
   "metadata": {},
   "outputs": [
    {
     "data": {
      "text/plain": [
       "536"
      ]
     },
     "execution_count": 49,
     "metadata": {},
     "output_type": "execute_result"
    }
   ],
   "source": [
    "len(humidity)"
   ]
  },
  {
   "cell_type": "code",
   "execution_count": 50,
   "metadata": {},
   "outputs": [
    {
     "data": {
      "text/plain": [
       "536"
      ]
     },
     "execution_count": 50,
     "metadata": {},
     "output_type": "execute_result"
    }
   ],
   "source": [
    "len(lat)"
   ]
  },
  {
   "cell_type": "code",
   "execution_count": 51,
   "metadata": {},
   "outputs": [
    {
     "data": {
      "text/plain": [
       "536"
      ]
     },
     "execution_count": 51,
     "metadata": {},
     "output_type": "execute_result"
    }
   ],
   "source": [
    "len(cloudiness)"
   ]
  },
  {
   "cell_type": "code",
   "execution_count": 53,
   "metadata": {},
   "outputs": [],
   "source": [
    "for city in cities[450:500]:\n",
    "    response = requests.get(url + city).json()\n",
    "    #print(response['coord'])\n",
    "    try:\n",
    "        lat.append(response['coord']['lat'])\n",
    "    except KeyError:\n",
    "         lat.append(np.NaN)\n",
    "# \"Catching\" the error lets the rest of our code execute\n",
    "    #print(\"...But the program doesn't die early!\")\n",
    "    #lat.append(response['coord']['lat'])\n",
    "    try:\n",
    "        temp.append(response['main']['temp'])\n",
    "    except KeyError:\n",
    "         temp.append(np.NaN)\n",
    "    try:\n",
    "        humidity.append(response['main']['humidity'])\n",
    "    except KeyError:\n",
    "         humidity.append(np.NaN)\n",
    "    #temp.append(response['main']['temp'])\n",
    "    #humidity.append(response['main']['humidity'])\n",
    "    try:\n",
    "        cloudiness.append(response['clouds']['all'])\n",
    "    except KeyError:\n",
    "         cloudiness.append(np.NaN)\n",
    "    #cloudiness.append(response['clouds']['all'])\n",
    "    try:\n",
    "        wind_speed.append(response['wind']['speed'])\n",
    "    except KeyError:\n",
    "         wind_speed.append(np.NaN)"
   ]
  },
  {
   "cell_type": "code",
   "execution_count": 54,
   "metadata": {},
   "outputs": [
    {
     "data": {
      "text/plain": [
       "615"
      ]
     },
     "execution_count": 54,
     "metadata": {},
     "output_type": "execute_result"
    }
   ],
   "source": [
    "len(cloudiness)"
   ]
  },
  {
   "cell_type": "code",
   "execution_count": 55,
   "metadata": {},
   "outputs": [
    {
     "data": {
      "text/plain": [
       "615"
      ]
     },
     "execution_count": 55,
     "metadata": {},
     "output_type": "execute_result"
    }
   ],
   "source": [
    "len(humidity)"
   ]
  },
  {
   "cell_type": "code",
   "execution_count": 56,
   "metadata": {},
   "outputs": [
    {
     "data": {
      "text/plain": [
       "615"
      ]
     },
     "execution_count": 56,
     "metadata": {},
     "output_type": "execute_result"
    }
   ],
   "source": [
    "len(lat)"
   ]
  },
  {
   "cell_type": "code",
   "execution_count": 57,
   "metadata": {},
   "outputs": [
    {
     "data": {
      "text/plain": [
       "615"
      ]
     },
     "execution_count": 57,
     "metadata": {},
     "output_type": "execute_result"
    }
   ],
   "source": [
    "len(wind_speed)"
   ]
  },
  {
   "cell_type": "code",
   "execution_count": 58,
   "metadata": {},
   "outputs": [],
   "source": [
    "for city in cities[500:550]:\n",
    "    response = requests.get(url + city).json()\n",
    "    #print(response['coord'])\n",
    "    try:\n",
    "        lat.append(response['coord']['lat'])\n",
    "    except KeyError:\n",
    "         lat.append(np.NaN)\n",
    "# \"Catching\" the error lets the rest of our code execute\n",
    "    #print(\"...But the program doesn't die early!\")\n",
    "    #lat.append(response['coord']['lat'])\n",
    "    try:\n",
    "        temp.append(response['main']['temp'])\n",
    "    except KeyError:\n",
    "         temp.append(np.NaN)\n",
    "    try:\n",
    "        humidity.append(response['main']['humidity'])\n",
    "    except KeyError:\n",
    "         humidity.append(np.NaN)\n",
    "    #temp.append(response['main']['temp'])\n",
    "    #humidity.append(response['main']['humidity'])\n",
    "    try:\n",
    "        cloudiness.append(response['clouds']['all'])\n",
    "    except KeyError:\n",
    "         cloudiness.append(np.NaN)\n",
    "    #cloudiness.append(response['clouds']['all'])\n",
    "    try:\n",
    "        wind_speed.append(response['wind']['speed'])\n",
    "    except KeyError:\n",
    "         wind_speed.append(np.NaN)"
   ]
  },
  {
   "cell_type": "code",
   "execution_count": 59,
   "metadata": {},
   "outputs": [
    {
     "data": {
      "text/plain": [
       "665"
      ]
     },
     "execution_count": 59,
     "metadata": {},
     "output_type": "execute_result"
    }
   ],
   "source": [
    "len(humidity)"
   ]
  },
  {
   "cell_type": "code",
   "execution_count": 60,
   "metadata": {},
   "outputs": [
    {
     "data": {
      "text/plain": [
       "665"
      ]
     },
     "execution_count": 60,
     "metadata": {},
     "output_type": "execute_result"
    }
   ],
   "source": [
    "len(temp)"
   ]
  },
  {
   "cell_type": "code",
   "execution_count": 61,
   "metadata": {},
   "outputs": [
    {
     "data": {
      "text/plain": [
       "665"
      ]
     },
     "execution_count": 61,
     "metadata": {},
     "output_type": "execute_result"
    }
   ],
   "source": [
    "len(cloudiness)"
   ]
  },
  {
   "cell_type": "code",
   "execution_count": 62,
   "metadata": {},
   "outputs": [],
   "source": [
    "for city in cities[550:600]:\n",
    "    response = requests.get(url + city).json()\n",
    "    #print(response['coord'])\n",
    "    try:\n",
    "        lat.append(response['coord']['lat'])\n",
    "    except KeyError:\n",
    "         lat.append(np.NaN)\n",
    "# \"Catching\" the error lets the rest of our code execute\n",
    "    #print(\"...But the program doesn't die early!\")\n",
    "    #lat.append(response['coord']['lat'])\n",
    "    try:\n",
    "        temp.append(response['main']['temp'])\n",
    "    except KeyError:\n",
    "         temp.append(np.NaN)\n",
    "    try:\n",
    "        humidity.append(response['main']['humidity'])\n",
    "    except KeyError:\n",
    "         humidity.append(np.NaN)\n",
    "    #temp.append(response['main']['temp'])\n",
    "    #humidity.append(response['main']['humidity'])\n",
    "    try:\n",
    "        cloudiness.append(response['clouds']['all'])\n",
    "    except KeyError:\n",
    "         cloudiness.append(np.NaN)\n",
    "    #cloudiness.append(response['clouds']['all'])\n",
    "    try:\n",
    "        wind_speed.append(response['wind']['speed'])\n",
    "    except KeyError:\n",
    "         wind_speed.append(np.NaN)"
   ]
  },
  {
   "cell_type": "code",
   "execution_count": 63,
   "metadata": {},
   "outputs": [
    {
     "data": {
      "text/plain": [
       "715"
      ]
     },
     "execution_count": 63,
     "metadata": {},
     "output_type": "execute_result"
    }
   ],
   "source": [
    "len(humidity)"
   ]
  },
  {
   "cell_type": "code",
   "execution_count": 64,
   "metadata": {},
   "outputs": [
    {
     "data": {
      "text/plain": [
       "715"
      ]
     },
     "execution_count": 64,
     "metadata": {},
     "output_type": "execute_result"
    }
   ],
   "source": [
    "len(temp)"
   ]
  },
  {
   "cell_type": "code",
   "execution_count": 65,
   "metadata": {},
   "outputs": [
    {
     "data": {
      "text/plain": [
       "715"
      ]
     },
     "execution_count": 65,
     "metadata": {},
     "output_type": "execute_result"
    }
   ],
   "source": [
    "len(cloudiness)"
   ]
  },
  {
   "cell_type": "code",
   "execution_count": 66,
   "metadata": {},
   "outputs": [
    {
     "data": {
      "text/plain": [
       "715"
      ]
     },
     "execution_count": 66,
     "metadata": {},
     "output_type": "execute_result"
    }
   ],
   "source": [
    "len(lat)"
   ]
  },
  {
   "cell_type": "code",
   "execution_count": 68,
   "metadata": {},
   "outputs": [],
   "source": [
    "for city in cities[600:658]:\n",
    "    response = requests.get(url + city).json()\n",
    "    #print(response['coord'])\n",
    "    try:\n",
    "        lat.append(response['coord']['lat'])\n",
    "    except KeyError:\n",
    "         lat.append(np.NaN)\n",
    "# \"Catching\" the error lets the rest of our code execute\n",
    "    #print(\"...But the program doesn't die early!\")\n",
    "    #lat.append(response['coord']['lat'])\n",
    "    try:\n",
    "        temp.append(response['main']['temp'])\n",
    "    except KeyError:\n",
    "         temp.append(np.NaN)\n",
    "    try:\n",
    "        humidity.append(response['main']['humidity'])\n",
    "    except KeyError:\n",
    "         humidity.append(np.NaN)\n",
    "    #temp.append(response['main']['temp'])\n",
    "    #humidity.append(response['main']['humidity'])\n",
    "    try:\n",
    "        cloudiness.append(response['clouds']['all'])\n",
    "    except KeyError:\n",
    "         cloudiness.append(np.NaN)\n",
    "    #cloudiness.append(response['clouds']['all'])\n",
    "    try:\n",
    "        wind_speed.append(response['wind']['speed'])\n",
    "    except KeyError:\n",
    "         wind_speed.append(np.NaN)"
   ]
  },
  {
   "cell_type": "code",
   "execution_count": 69,
   "metadata": {},
   "outputs": [
    {
     "data": {
      "text/plain": [
       "812"
      ]
     },
     "execution_count": 69,
     "metadata": {},
     "output_type": "execute_result"
    }
   ],
   "source": [
    "len(temp)"
   ]
  },
  {
   "cell_type": "code",
   "execution_count": 70,
   "metadata": {},
   "outputs": [
    {
     "data": {
      "text/plain": [
       "812"
      ]
     },
     "execution_count": 70,
     "metadata": {},
     "output_type": "execute_result"
    }
   ],
   "source": [
    "len(wind_speed)"
   ]
  },
  {
   "cell_type": "code",
   "execution_count": 71,
   "metadata": {},
   "outputs": [
    {
     "data": {
      "text/plain": [
       "812"
      ]
     },
     "execution_count": 71,
     "metadata": {},
     "output_type": "execute_result"
    }
   ],
   "source": [
    "len(humidity)"
   ]
  },
  {
   "cell_type": "code",
   "execution_count": 72,
   "metadata": {},
   "outputs": [
    {
     "data": {
      "text/plain": [
       "812"
      ]
     },
     "execution_count": 72,
     "metadata": {},
     "output_type": "execute_result"
    }
   ],
   "source": [
    "len(lat)"
   ]
  },
  {
   "cell_type": "code",
   "execution_count": 73,
   "metadata": {},
   "outputs": [
    {
     "data": {
      "text/plain": [
       "812"
      ]
     },
     "execution_count": 73,
     "metadata": {},
     "output_type": "execute_result"
    }
   ],
   "source": [
    "len(cloudiness)"
   ]
  },
  {
   "cell_type": "code",
   "execution_count": 74,
   "metadata": {},
   "outputs": [],
   "source": [
    "data = pd.DataFrame({'lat': lat, 'temp': temp, 'humidity': humidity, 'cloudiness': cloudiness,'wind speed': wind_speed})"
   ]
  },
  {
   "cell_type": "code",
   "execution_count": 75,
   "metadata": {},
   "outputs": [
    {
     "data": {
      "text/html": [
       "<div>\n",
       "<style scoped>\n",
       "    .dataframe tbody tr th:only-of-type {\n",
       "        vertical-align: middle;\n",
       "    }\n",
       "\n",
       "    .dataframe tbody tr th {\n",
       "        vertical-align: top;\n",
       "    }\n",
       "\n",
       "    .dataframe thead th {\n",
       "        text-align: right;\n",
       "    }\n",
       "</style>\n",
       "<table border=\"1\" class=\"dataframe\">\n",
       "  <thead>\n",
       "    <tr style=\"text-align: right;\">\n",
       "      <th></th>\n",
       "      <th>lat</th>\n",
       "      <th>temp</th>\n",
       "      <th>humidity</th>\n",
       "      <th>cloudiness</th>\n",
       "      <th>wind speed</th>\n",
       "    </tr>\n",
       "  </thead>\n",
       "  <tbody>\n",
       "    <tr>\n",
       "      <th>0</th>\n",
       "      <td>3.07</td>\n",
       "      <td>301.758</td>\n",
       "      <td>100.0</td>\n",
       "      <td>64.0</td>\n",
       "      <td>4.17</td>\n",
       "    </tr>\n",
       "    <tr>\n",
       "      <th>1</th>\n",
       "      <td>64.42</td>\n",
       "      <td>287.150</td>\n",
       "      <td>62.0</td>\n",
       "      <td>0.0</td>\n",
       "      <td>2.00</td>\n",
       "    </tr>\n",
       "    <tr>\n",
       "      <th>2</th>\n",
       "      <td>68.06</td>\n",
       "      <td>290.008</td>\n",
       "      <td>65.0</td>\n",
       "      <td>0.0</td>\n",
       "      <td>0.47</td>\n",
       "    </tr>\n",
       "    <tr>\n",
       "      <th>3</th>\n",
       "      <td>65.80</td>\n",
       "      <td>277.558</td>\n",
       "      <td>94.0</td>\n",
       "      <td>48.0</td>\n",
       "      <td>4.12</td>\n",
       "    </tr>\n",
       "    <tr>\n",
       "      <th>4</th>\n",
       "      <td>NaN</td>\n",
       "      <td>NaN</td>\n",
       "      <td>NaN</td>\n",
       "      <td>NaN</td>\n",
       "      <td>NaN</td>\n",
       "    </tr>\n",
       "  </tbody>\n",
       "</table>\n",
       "</div>"
      ],
      "text/plain": [
       "     lat     temp  humidity  cloudiness  wind speed\n",
       "0   3.07  301.758     100.0        64.0        4.17\n",
       "1  64.42  287.150      62.0         0.0        2.00\n",
       "2  68.06  290.008      65.0         0.0        0.47\n",
       "3  65.80  277.558      94.0        48.0        4.12\n",
       "4    NaN      NaN       NaN         NaN         NaN"
      ]
     },
     "execution_count": 75,
     "metadata": {},
     "output_type": "execute_result"
    }
   ],
   "source": [
    "data.head()"
   ]
  },
  {
   "cell_type": "code",
   "execution_count": 76,
   "metadata": {},
   "outputs": [
    {
     "data": {
      "text/plain": [
       "812"
      ]
     },
     "execution_count": 76,
     "metadata": {},
     "output_type": "execute_result"
    }
   ],
   "source": [
    "len(data)"
   ]
  },
  {
   "cell_type": "code",
   "execution_count": 82,
   "metadata": {},
   "outputs": [],
   "source": [
    "clean_data = data.dropna()"
   ]
  },
  {
   "cell_type": "code",
   "execution_count": 83,
   "metadata": {},
   "outputs": [
    {
     "data": {
      "text/plain": [
       "709"
      ]
     },
     "execution_count": 83,
     "metadata": {},
     "output_type": "execute_result"
    }
   ],
   "source": [
    "len(clean_data)"
   ]
  },
  {
   "cell_type": "code",
   "execution_count": 84,
   "metadata": {},
   "outputs": [
    {
     "data": {
      "text/html": [
       "<div>\n",
       "<style scoped>\n",
       "    .dataframe tbody tr th:only-of-type {\n",
       "        vertical-align: middle;\n",
       "    }\n",
       "\n",
       "    .dataframe tbody tr th {\n",
       "        vertical-align: top;\n",
       "    }\n",
       "\n",
       "    .dataframe thead th {\n",
       "        text-align: right;\n",
       "    }\n",
       "</style>\n",
       "<table border=\"1\" class=\"dataframe\">\n",
       "  <thead>\n",
       "    <tr style=\"text-align: right;\">\n",
       "      <th></th>\n",
       "      <th>lat</th>\n",
       "      <th>temp</th>\n",
       "      <th>humidity</th>\n",
       "      <th>cloudiness</th>\n",
       "      <th>wind speed</th>\n",
       "    </tr>\n",
       "  </thead>\n",
       "  <tbody>\n",
       "    <tr>\n",
       "      <th>0</th>\n",
       "      <td>3.07</td>\n",
       "      <td>301.758</td>\n",
       "      <td>100.0</td>\n",
       "      <td>64.0</td>\n",
       "      <td>4.17</td>\n",
       "    </tr>\n",
       "    <tr>\n",
       "      <th>1</th>\n",
       "      <td>64.42</td>\n",
       "      <td>287.150</td>\n",
       "      <td>62.0</td>\n",
       "      <td>0.0</td>\n",
       "      <td>2.00</td>\n",
       "    </tr>\n",
       "    <tr>\n",
       "      <th>2</th>\n",
       "      <td>68.06</td>\n",
       "      <td>290.008</td>\n",
       "      <td>65.0</td>\n",
       "      <td>0.0</td>\n",
       "      <td>0.47</td>\n",
       "    </tr>\n",
       "    <tr>\n",
       "      <th>3</th>\n",
       "      <td>65.80</td>\n",
       "      <td>277.558</td>\n",
       "      <td>94.0</td>\n",
       "      <td>48.0</td>\n",
       "      <td>4.12</td>\n",
       "    </tr>\n",
       "    <tr>\n",
       "      <th>5</th>\n",
       "      <td>26.30</td>\n",
       "      <td>309.610</td>\n",
       "      <td>22.0</td>\n",
       "      <td>75.0</td>\n",
       "      <td>4.60</td>\n",
       "    </tr>\n",
       "  </tbody>\n",
       "</table>\n",
       "</div>"
      ],
      "text/plain": [
       "     lat     temp  humidity  cloudiness  wind speed\n",
       "0   3.07  301.758     100.0        64.0        4.17\n",
       "1  64.42  287.150      62.0         0.0        2.00\n",
       "2  68.06  290.008      65.0         0.0        0.47\n",
       "3  65.80  277.558      94.0        48.0        4.12\n",
       "5  26.30  309.610      22.0        75.0        4.60"
      ]
     },
     "execution_count": 84,
     "metadata": {},
     "output_type": "execute_result"
    }
   ],
   "source": [
    "clean_data.head()"
   ]
  },
  {
   "cell_type": "code",
   "execution_count": null,
   "metadata": {},
   "outputs": [],
   "source": []
  },
  {
   "cell_type": "code",
   "execution_count": null,
   "metadata": {},
   "outputs": [],
   "source": []
  },
  {
   "cell_type": "code",
   "execution_count": 89,
   "metadata": {},
   "outputs": [
    {
     "name": "stderr",
     "output_type": "stream",
     "text": [
      "/anaconda3/lib/python3.6/site-packages/matplotlib/collections.py:902: RuntimeWarning: invalid value encountered in sqrt\n",
      "  scale = np.sqrt(self._sizes) * dpi / 72.0 * self._factor\n"
     ]
    },
    {
     "data": {
      "image/png": "[encoded data removed]",
      "text/plain": [
       "<Figure size 432x288 with 1 Axes>"
      ]
     },
     "metadata": {},
     "output_type": "display_data"
    }
   ],
   "source": [
    "temp_scatter = plt.scatter(lat,temp, marker=\"o\", facecolors=\"red\", edgecolors=\"black\",\n",
    "            s=lat, alpha=0.75)"
   ]
  },
  {
   "cell_type": "code",
   "execution_count": 101,
   "metadata": {},
   "outputs": [
    {
     "name": "stderr",
     "output_type": "stream",
     "text": [
      "/anaconda3/lib/python3.6/site-packages/matplotlib/collections.py:902: RuntimeWarning: invalid value encountered in sqrt\n",
      "  scale = np.sqrt(self._sizes) * dpi / 72.0 * self._factor\n"
     ]
    },
    {
     "data": {
      "image/png": "[encoded data removed]",
      "text/plain": [
       "<Figure size 432x288 with 1 Axes>"
      ]
     },
     "metadata": {},
     "output_type": "display_data"
    }
   ],
   "source": [
    "humidity_scatter = plt.scatter(lat,humidity, marker=\"o\", facecolors=\"blue\", edgecolors=\"black\",\n",
    "            s=lat, alpha=0.75)"
   ]
  },
  {
   "cell_type": "code",
   "execution_count": 102,
   "metadata": {},
   "outputs": [
    {
     "name": "stderr",
     "output_type": "stream",
     "text": [
      "/anaconda3/lib/python3.6/site-packages/matplotlib/collections.py:902: RuntimeWarning: invalid value encountered in sqrt\n",
      "  scale = np.sqrt(self._sizes) * dpi / 72.0 * self._factor\n"
     ]
    },
    {
     "data": {
      "image/png": "[encoded data removed]",
      "text/plain": [
       "<Figure size 432x288 with 1 Axes>"
      ]
     },
     "metadata": {},
     "output_type": "display_data"
    }
   ],
   "source": [
    "cloudiness_scatter = plt.scatter(lat,cloudiness, marker=\"o\", facecolors=\"yellow\", edgecolors=\"black\",\n",
    "            s=lat, alpha=0.75)"
   ]
  },
  {
   "cell_type": "code",
   "execution_count": 103,
   "metadata": {},
   "outputs": [
    {
     "name": "stderr",
     "output_type": "stream",
     "text": [
      "/anaconda3/lib/python3.6/site-packages/matplotlib/collections.py:902: RuntimeWarning: invalid value encountered in sqrt\n",
      "  scale = np.sqrt(self._sizes) * dpi / 72.0 * self._factor\n"
     ]
    },
    {
     "data": {
      "image/png": "[encoded data removed]",
      "text/plain": [
       "<Figure size 432x288 with 1 Axes>"
      ]
     },
     "metadata": {},
     "output_type": "display_data"
    }
   ],
   "source": [
    "wind_speed = plt.scatter(lat,wind_speed, marker=\"o\", facecolors=\"orange\", edgecolors=\"black\",\n",
    "            s=lat, alpha=0.75)"
   ]
  },
  {
   "cell_type": "code",
   "execution_count": null,
   "metadata": {},
   "outputs": [],
   "source": [
    "wind_speed = plt.scatter(lat,wind_speed, marker=\"o\", facecolors=\"orange\", edgecolors=\"black\",\n",
    "            s=lat, alpha=0.75)"
   ]
  },
  {
   "cell_type": "code",
   "execution_count": null,
   "metadata": {},
   "outputs": [],
   "source": []
  }
 ],
 "metadata": {
  "anaconda-cloud": {},
  "kernelspec": {
   "display_name": "Python 3",
   "language": "python",
   "name": "python3"
  },
  "language_info": {
   "codemirror_mode": {
    "name": "ipython",
    "version": 3
   },
   "file_extension": ".py",
   "mimetype": "text/x-python",
   "name": "python",
   "nbconvert_exporter": "python",
   "pygments_lexer": "ipython3",
   "version": "3.6.5"
  }
 },
 "nbformat": 4,
 "nbformat_minor": 1
}
